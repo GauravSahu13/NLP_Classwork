{
  "nbformat": 4,
  "nbformat_minor": 0,
  "metadata": {
    "colab": {
      "provenance": [],
      "gpuType": "T4"
    },
    "kernelspec": {
      "name": "python3",
      "display_name": "Python 3"
    },
    "language_info": {
      "name": "python"
    },
    "accelerator": "GPU"
  },
  "cells": [
    {
      "cell_type": "code",
      "source": [
        "!pip install nltk"
      ],
      "metadata": {
        "colab": {
          "base_uri": "https://localhost:8080/"
        },
        "id": "BnP2nGAMiv3j",
        "outputId": "189b2823-ce0a-4a31-919a-1423c67f5345"
      },
      "execution_count": 1,
      "outputs": [
        {
          "output_type": "stream",
          "name": "stdout",
          "text": [
            "Requirement already satisfied: nltk in /usr/local/lib/python3.10/dist-packages (3.8.1)\n",
            "Requirement already satisfied: click in /usr/local/lib/python3.10/dist-packages (from nltk) (8.1.7)\n",
            "Requirement already satisfied: joblib in /usr/local/lib/python3.10/dist-packages (from nltk) (1.4.2)\n",
            "Requirement already satisfied: regex>=2021.8.3 in /usr/local/lib/python3.10/dist-packages (from nltk) (2023.12.25)\n",
            "Requirement already satisfied: tqdm in /usr/local/lib/python3.10/dist-packages (from nltk) (4.66.4)\n"
          ]
        }
      ]
    },
    {
      "cell_type": "code",
      "source": [
        "import nltk\n",
        "from nltk.stem import PorterStemmer\n",
        "from nltk.corpus import stopwords\n"
      ],
      "metadata": {
        "id": "DrKpbiuCi-T5"
      },
      "execution_count": 2,
      "outputs": []
    },
    {
      "cell_type": "code",
      "source": [
        "paragraph ='''Mahendra Singh Dhoni (born 7 July 1981) is an Indian professional cricketer. He is a right handed batter and a wicket-keeper. Widely regarded as one of the most prolific wicket-keeper-batsmen and captains, he represented the Indian cricket team and was the captain of the side in limited-overs formats from 2007 to 2017 and in test cricket from 2008 to 2014. Dhoni has captained the most international matches and is the most successful Indian captain. He has led India to victory in the 2011 Cricket World Cup, the 2007 ICC World Twenty20 and the 2013 ICC Champions Trophy, the only captain to win three different limited overs tournaments. He also led the teams that won the Asia Cup in 2010, 2016 and was a member of the title winning squad in 2018.Born in Ranchi, Dhoni made his first class debut for Bihar in 1999. He made his debut for the Indian cricket team on 23 December 2004 in an ODI against Bangladesh and played his first test a year later against Sri Lanka. In 2007, he became the captain of the ODI side before taking over in all formats by 2008. Dhoni retired from test cricket in 2014, but continued playing in limited overs cricket till 2019. He has scored 17,266 runs in international cricket including 10,000 plus runs at an average of more than 50 in ODIs.'''"
      ],
      "metadata": {
        "id": "UppZiwgpjU9l"
      },
      "execution_count": 4,
      "outputs": []
    },
    {
      "cell_type": "code",
      "source": [
        "paragraph"
      ],
      "metadata": {
        "colab": {
          "base_uri": "https://localhost:8080/",
          "height": 123
        },
        "id": "pnXywggujlwj",
        "outputId": "265b1678-2183-4039-b5ae-6b26021d51cc"
      },
      "execution_count": 6,
      "outputs": [
        {
          "output_type": "execute_result",
          "data": {
            "text/plain": [
              "'Mahendra Singh Dhoni (born 7 July 1981) is an Indian professional cricketer. He is a right handed batter and a wicket-keeper. Widely regarded as one of the most prolific wicket-keeper-batsmen and captains, he represented the Indian cricket team and was the captain of the side in limited-overs formats from 2007 to 2017 and in test cricket from 2008 to 2014. Dhoni has captained the most international matches and is the most successful Indian captain. He has led India to victory in the 2011 Cricket World Cup, the 2007 ICC World Twenty20 and the 2013 ICC Champions Trophy, the only captain to win three different limited overs tournaments. He also led the teams that won the Asia Cup in 2010, 2016 and was a member of the title winning squad in 2018.Born in Ranchi, Dhoni made his first class debut for Bihar in 1999. He made his debut for the Indian cricket team on 23 December 2004 in an ODI against Bangladesh and played his first test a year later against Sri Lanka. In 2007, he became the captain of the ODI side before taking over in all formats by 2008. Dhoni retired from test cricket in 2014, but continued playing in limited overs cricket till 2019. He has scored 17,266 runs in international cricket including 10,000 plus runs at an average of more than 50 in ODIs.'"
            ],
            "application/vnd.google.colaboratory.intrinsic+json": {
              "type": "string"
            }
          },
          "metadata": {},
          "execution_count": 6
        }
      ]
    },
    {
      "cell_type": "code",
      "source": [
        "## tokenization --> converts paragraph -- sentences -- words\n",
        "nltk.download('punkt')\n",
        "sentence = nltk.sent_tokenize(paragraph)   # converts into sentence"
      ],
      "metadata": {
        "colab": {
          "base_uri": "https://localhost:8080/"
        },
        "id": "_KcgPO9HjvxO",
        "outputId": "1b19424b-d9c9-4581-d908-54b8ccf91dfd"
      },
      "execution_count": 8,
      "outputs": [
        {
          "output_type": "stream",
          "name": "stderr",
          "text": [
            "[nltk_data] Downloading package punkt to /root/nltk_data...\n",
            "[nltk_data]   Package punkt is already up-to-date!\n"
          ]
        }
      ]
    },
    {
      "cell_type": "code",
      "source": [
        "stemmer = PorterStemmer()\n",
        "stemmer.stem('history')"
      ],
      "metadata": {
        "colab": {
          "base_uri": "https://localhost:8080/",
          "height": 36
        },
        "id": "1HXzGEtkkPG0",
        "outputId": "ef45f312-f66c-4926-ee3d-44997212a688"
      },
      "execution_count": 10,
      "outputs": [
        {
          "output_type": "execute_result",
          "data": {
            "text/plain": [
              "'histori'"
            ],
            "application/vnd.google.colaboratory.intrinsic+json": {
              "type": "string"
            }
          },
          "metadata": {},
          "execution_count": 10
        }
      ]
    },
    {
      "cell_type": "code",
      "source": [
        "# cleaning the text\n",
        "import re\n",
        "corpus =[]\n",
        "for i in range(len(sentence)):\n",
        "  review = re.sub('[^a-zA-Z]',' ',sentence[i])\n",
        "  review = review.lower()\n",
        "  corpus.append(review)\n",
        "\n",
        "corpus"
      ],
      "metadata": {
        "colab": {
          "base_uri": "https://localhost:8080/"
        },
        "id": "j3NhdhMCkh9L",
        "outputId": "b2db7c4e-5d43-4341-bbed-592ffa325aca"
      },
      "execution_count": 11,
      "outputs": [
        {
          "output_type": "execute_result",
          "data": {
            "text/plain": [
              "['mahendra singh dhoni  born   july       is an indian professional cricketer ',\n",
              " 'he is a right handed batter and a wicket keeper ',\n",
              " 'widely regarded as one of the most prolific wicket keeper batsmen and captains  he represented the indian cricket team and was the captain of the side in limited overs formats from      to      and in test cricket from      to      ',\n",
              " 'dhoni has captained the most international matches and is the most successful indian captain ',\n",
              " 'he has led india to victory in the      cricket world cup  the      icc world twenty   and the      icc champions trophy  the only captain to win three different limited overs tournaments ',\n",
              " 'he also led the teams that won the asia cup in            and was a member of the title winning squad in      born in ranchi  dhoni made his first class debut for bihar in      ',\n",
              " 'he made his debut for the indian cricket team on    december      in an odi against bangladesh and played his first test a year later against sri lanka ',\n",
              " 'in       he became the captain of the odi side before taking over in all formats by      ',\n",
              " 'dhoni retired from test cricket in       but continued playing in limited overs cricket till      ',\n",
              " 'he has scored        runs in international cricket including        plus runs at an average of more than    in odis ']"
            ]
          },
          "metadata": {},
          "execution_count": 11
        }
      ]
    },
    {
      "cell_type": "code",
      "source": [
        "import nltk\n",
        "nltk.download('stopwords')\n",
        ""
      ],
      "metadata": {
        "colab": {
          "base_uri": "https://localhost:8080/"
        },
        "id": "hHSuJmZ8nB-C",
        "outputId": "e4447d2b-d78b-49f6-d9f3-e64746bb5987"
      },
      "execution_count": 16,
      "outputs": [
        {
          "output_type": "stream",
          "name": "stderr",
          "text": [
            "[nltk_data] Downloading package stopwords to /root/nltk_data...\n",
            "[nltk_data]   Unzipping corpora/stopwords.zip.\n"
          ]
        },
        {
          "output_type": "execute_result",
          "data": {
            "text/plain": [
              "True"
            ]
          },
          "metadata": {},
          "execution_count": 16
        }
      ]
    },
    {
      "cell_type": "code",
      "source": [
        "# stemming\n",
        "for i in corpus:\n",
        "  words = nltk.word_tokenize(i)\n",
        "  for word in words:\n",
        "    if word not in set(stopwords.words('english')):\n",
        "      print(stemmer.stem(word))\n",
        "\n",
        ""
      ],
      "metadata": {
        "colab": {
          "base_uri": "https://localhost:8080/"
        },
        "id": "GK5Ux4NzlgNM",
        "outputId": "9908a533-85fc-42f6-bd5e-a9d3deebc561"
      },
      "execution_count": 17,
      "outputs": [
        {
          "output_type": "stream",
          "name": "stdout",
          "text": [
            "mahendra\n",
            "singh\n",
            "dhoni\n",
            "born\n",
            "juli\n",
            "indian\n",
            "profession\n",
            "cricket\n",
            "right\n",
            "hand\n",
            "batter\n",
            "wicket\n",
            "keeper\n",
            "wide\n",
            "regard\n",
            "one\n",
            "prolif\n",
            "wicket\n",
            "keeper\n",
            "batsmen\n",
            "captain\n",
            "repres\n",
            "indian\n",
            "cricket\n",
            "team\n",
            "captain\n",
            "side\n",
            "limit\n",
            "over\n",
            "format\n",
            "test\n",
            "cricket\n",
            "dhoni\n",
            "captain\n",
            "intern\n",
            "match\n",
            "success\n",
            "indian\n",
            "captain\n",
            "led\n",
            "india\n",
            "victori\n",
            "cricket\n",
            "world\n",
            "cup\n",
            "icc\n",
            "world\n",
            "twenti\n",
            "icc\n",
            "champion\n",
            "trophi\n",
            "captain\n",
            "win\n",
            "three\n",
            "differ\n",
            "limit\n",
            "over\n",
            "tournament\n",
            "also\n",
            "led\n",
            "team\n",
            "asia\n",
            "cup\n",
            "member\n",
            "titl\n",
            "win\n",
            "squad\n",
            "born\n",
            "ranchi\n",
            "dhoni\n",
            "made\n",
            "first\n",
            "class\n",
            "debut\n",
            "bihar\n",
            "made\n",
            "debut\n",
            "indian\n",
            "cricket\n",
            "team\n",
            "decemb\n",
            "odi\n",
            "bangladesh\n",
            "play\n",
            "first\n",
            "test\n",
            "year\n",
            "later\n",
            "sri\n",
            "lanka\n",
            "becam\n",
            "captain\n",
            "odi\n",
            "side\n",
            "take\n",
            "format\n",
            "dhoni\n",
            "retir\n",
            "test\n",
            "cricket\n",
            "continu\n",
            "play\n",
            "limit\n",
            "over\n",
            "cricket\n",
            "till\n",
            "score\n",
            "run\n",
            "intern\n",
            "cricket\n",
            "includ\n",
            "plu\n",
            "run\n",
            "averag\n",
            "odi\n"
          ]
        }
      ]
    },
    {
      "cell_type": "code",
      "source": [
        "# BAG of Words\n",
        "\n",
        "from sklearn.feature_extraction.text import CountVectorizer\n",
        "cv = CountVectorizer(binary = True)\n"
      ],
      "metadata": {
        "id": "59MQoMyOmVZr"
      },
      "execution_count": 18,
      "outputs": []
    },
    {
      "cell_type": "code",
      "source": [
        "X =cv.fit_transform(corpus)\n",
        "cv.vocabulary_       # dictionary contains {words : frequency mappint}"
      ],
      "metadata": {
        "colab": {
          "base_uri": "https://localhost:8080/"
        },
        "id": "RFXRGgwzoUKY",
        "outputId": "6595c826-4ffa-461a-f075-b11f8f8ded93"
      },
      "execution_count": 20,
      "outputs": [
        {
          "output_type": "execute_result",
          "data": {
            "text/plain": [
              "{'mahendra': 53,\n",
              " 'singh': 79,\n",
              " 'dhoni': 29,\n",
              " 'born': 15,\n",
              " 'july': 46,\n",
              " 'is': 45,\n",
              " 'an': 3,\n",
              " 'indian': 43,\n",
              " 'professional': 69,\n",
              " 'cricketer': 25,\n",
              " 'he': 37,\n",
              " 'right': 75,\n",
              " 'handed': 35,\n",
              " 'batter': 11,\n",
              " 'and': 4,\n",
              " 'wicket': 99,\n",
              " 'keeper': 47,\n",
              " 'widely': 100,\n",
              " 'regarded': 72,\n",
              " 'as': 5,\n",
              " 'one': 62,\n",
              " 'of': 60,\n",
              " 'the': 89,\n",
              " 'most': 57,\n",
              " 'prolific': 70,\n",
              " 'batsmen': 10,\n",
              " 'captains': 20,\n",
              " 'represented': 73,\n",
              " 'cricket': 24,\n",
              " 'team': 84,\n",
              " 'was': 98,\n",
              " 'captain': 18,\n",
              " 'side': 78,\n",
              " 'in': 40,\n",
              " 'limited': 51,\n",
              " 'overs': 65,\n",
              " 'formats': 33,\n",
              " 'from': 34,\n",
              " 'to': 93,\n",
              " 'test': 86,\n",
              " 'has': 36,\n",
              " 'captained': 19,\n",
              " 'international': 44,\n",
              " 'matches': 54,\n",
              " 'successful': 82,\n",
              " 'led': 50,\n",
              " 'india': 42,\n",
              " 'victory': 97,\n",
              " 'world': 104,\n",
              " 'cup': 26,\n",
              " 'icc': 39,\n",
              " 'twenty': 96,\n",
              " 'champions': 21,\n",
              " 'trophy': 95,\n",
              " 'only': 63,\n",
              " 'win': 101,\n",
              " 'three': 90,\n",
              " 'different': 30,\n",
              " 'tournaments': 94,\n",
              " 'also': 2,\n",
              " 'teams': 85,\n",
              " 'that': 88,\n",
              " 'won': 103,\n",
              " 'asia': 6,\n",
              " 'member': 55,\n",
              " 'title': 92,\n",
              " 'winning': 102,\n",
              " 'squad': 80,\n",
              " 'ranchi': 71,\n",
              " 'made': 52,\n",
              " 'his': 38,\n",
              " 'first': 31,\n",
              " 'class': 22,\n",
              " 'debut': 27,\n",
              " 'for': 32,\n",
              " 'bihar': 14,\n",
              " 'on': 61,\n",
              " 'december': 28,\n",
              " 'odi': 58,\n",
              " 'against': 0,\n",
              " 'bangladesh': 9,\n",
              " 'played': 66,\n",
              " 'year': 105,\n",
              " 'later': 49,\n",
              " 'sri': 81,\n",
              " 'lanka': 48,\n",
              " 'became': 12,\n",
              " 'before': 13,\n",
              " 'taking': 83,\n",
              " 'over': 64,\n",
              " 'all': 1,\n",
              " 'by': 17,\n",
              " 'retired': 74,\n",
              " 'but': 16,\n",
              " 'continued': 23,\n",
              " 'playing': 67,\n",
              " 'till': 91,\n",
              " 'scored': 77,\n",
              " 'runs': 76,\n",
              " 'including': 41,\n",
              " 'plus': 68,\n",
              " 'at': 7,\n",
              " 'average': 8,\n",
              " 'more': 56,\n",
              " 'than': 87,\n",
              " 'odis': 59}"
            ]
          },
          "metadata": {},
          "execution_count": 20
        }
      ]
    },
    {
      "cell_type": "code",
      "source": [
        "corpus[0]"
      ],
      "metadata": {
        "colab": {
          "base_uri": "https://localhost:8080/",
          "height": 36
        },
        "id": "L4wJ0TSHoZTQ",
        "outputId": "cda52b9a-9acd-4da6-e048-74c14d778359"
      },
      "execution_count": 21,
      "outputs": [
        {
          "output_type": "execute_result",
          "data": {
            "text/plain": [
              "'mahendra singh dhoni  born   july       is an indian professional cricketer '"
            ],
            "application/vnd.google.colaboratory.intrinsic+json": {
              "type": "string"
            }
          },
          "metadata": {},
          "execution_count": 21
        }
      ]
    },
    {
      "cell_type": "code",
      "source": [
        "X[0].toarray()"
      ],
      "metadata": {
        "colab": {
          "base_uri": "https://localhost:8080/"
        },
        "id": "wfpgD0h7o-wO",
        "outputId": "53b30dea-06f4-40fe-9d18-c14d366d33dd"
      },
      "execution_count": 23,
      "outputs": [
        {
          "output_type": "execute_result",
          "data": {
            "text/plain": [
              "array([[0, 0, 0, 1, 0, 0, 0, 0, 0, 0, 0, 0, 0, 0, 0, 1, 0, 0, 0, 0, 0, 0,\n",
              "        0, 0, 0, 1, 0, 0, 0, 1, 0, 0, 0, 0, 0, 0, 0, 0, 0, 0, 0, 0, 0, 1,\n",
              "        0, 1, 1, 0, 0, 0, 0, 0, 0, 1, 0, 0, 0, 0, 0, 0, 0, 0, 0, 0, 0, 0,\n",
              "        0, 0, 0, 1, 0, 0, 0, 0, 0, 0, 0, 0, 0, 1, 0, 0, 0, 0, 0, 0, 0, 0,\n",
              "        0, 0, 0, 0, 0, 0, 0, 0, 0, 0, 0, 0, 0, 0, 0, 0, 0, 0]])"
            ]
          },
          "metadata": {},
          "execution_count": 23
        }
      ]
    },
    {
      "cell_type": "code",
      "source": [],
      "metadata": {
        "id": "jgSTj0HbpCkY"
      },
      "execution_count": null,
      "outputs": []
    },
    {
      "cell_type": "markdown",
      "source": [
        "**TF-IDF**"
      ],
      "metadata": {
        "id": "jRG88F5yqqNI"
      }
    },
    {
      "cell_type": "code",
      "source": [
        "from sklearn.feature_extraction.text import TfidfVectorizer\n",
        "cv = TfidfVectorizer()\n",
        "X = cv.fit_transform(corpus)"
      ],
      "metadata": {
        "id": "SLwDmO-wqs2h"
      },
      "execution_count": 24,
      "outputs": []
    },
    {
      "cell_type": "code",
      "source": [
        "corpus[0]"
      ],
      "metadata": {
        "colab": {
          "base_uri": "https://localhost:8080/",
          "height": 36
        },
        "id": "elTU-EQ_q8f4",
        "outputId": "8af4bb8e-bec2-4cd1-d17f-199609cff946"
      },
      "execution_count": 25,
      "outputs": [
        {
          "output_type": "execute_result",
          "data": {
            "text/plain": [
              "'mahendra singh dhoni  born   july       is an indian professional cricketer '"
            ],
            "application/vnd.google.colaboratory.intrinsic+json": {
              "type": "string"
            }
          },
          "metadata": {},
          "execution_count": 25
        }
      ]
    },
    {
      "cell_type": "code",
      "source": [
        "X[0].toarray()"
      ],
      "metadata": {
        "colab": {
          "base_uri": "https://localhost:8080/"
        },
        "id": "yQwly9hBq-el",
        "outputId": "548863f7-1d3d-4a6b-8eb6-ac4ae5b0305b"
      },
      "execution_count": 26,
      "outputs": [
        {
          "output_type": "execute_result",
          "data": {
            "text/plain": [
              "array([[0.        , 0.        , 0.        , 0.26796288, 0.        ,\n",
              "        0.        , 0.        , 0.        , 0.        , 0.        ,\n",
              "        0.        , 0.        , 0.        , 0.        , 0.        ,\n",
              "        0.30628465, 0.        , 0.        , 0.        , 0.        ,\n",
              "        0.        , 0.        , 0.        , 0.        , 0.        ,\n",
              "        0.36029616, 0.        , 0.        , 0.        , 0.2382382 ,\n",
              "        0.        , 0.        , 0.        , 0.        , 0.        ,\n",
              "        0.        , 0.        , 0.        , 0.        , 0.        ,\n",
              "        0.        , 0.        , 0.        , 0.2382382 , 0.        ,\n",
              "        0.26796288, 0.36029616, 0.        , 0.        , 0.        ,\n",
              "        0.        , 0.        , 0.        , 0.36029616, 0.        ,\n",
              "        0.        , 0.        , 0.        , 0.        , 0.        ,\n",
              "        0.        , 0.        , 0.        , 0.        , 0.        ,\n",
              "        0.        , 0.        , 0.        , 0.        , 0.36029616,\n",
              "        0.        , 0.        , 0.        , 0.        , 0.        ,\n",
              "        0.        , 0.        , 0.        , 0.        , 0.36029616,\n",
              "        0.        , 0.        , 0.        , 0.        , 0.        ,\n",
              "        0.        , 0.        , 0.        , 0.        , 0.        ,\n",
              "        0.        , 0.        , 0.        , 0.        , 0.        ,\n",
              "        0.        , 0.        , 0.        , 0.        , 0.        ,\n",
              "        0.        , 0.        , 0.        , 0.        , 0.        ,\n",
              "        0.        ]])"
            ]
          },
          "metadata": {},
          "execution_count": 26
        }
      ]
    },
    {
      "cell_type": "code",
      "source": [],
      "metadata": {
        "id": "Zl_04mkSrCiP"
      },
      "execution_count": null,
      "outputs": []
    },
    {
      "cell_type": "markdown",
      "source": [
        "**Word2Vec**\n",
        "\n",
        "!pip install gensim\n",
        "\n",
        "import gensim\n",
        "\n",
        "from gensim.models import Word2Vec, KeyedVectors\n",
        "\n",
        "import gensim.downloader as api\n",
        "\n",
        "wv = api.load('word2vec-google-news-300')\n",
        "\n",
        "vec_king = wv['king']\n",
        "\n",
        "300 dimension words\n",
        "\n",
        "wv.most_similar('man') --> cosine similarity\n",
        "\n",
        "wv.similarity('man','king')\n"
      ],
      "metadata": {
        "id": "pfwKJ35Zrvbw"
      }
    },
    {
      "cell_type": "code",
      "source": [],
      "metadata": {
        "id": "FSnItUljtHoE"
      },
      "execution_count": null,
      "outputs": []
    }
  ]
}